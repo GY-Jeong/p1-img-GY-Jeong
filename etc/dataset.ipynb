{
 "cells": [
  {
   "cell_type": "code",
   "execution_count": 1,
   "id": "occasional-proceeding",
   "metadata": {},
   "outputs": [],
   "source": [
    "from torch.utils.data import Dataset, DataLoader\n",
    "from PIL import Image\n",
    "import glob\n",
    "from tqdm import tqdm, tqdm_notebook\n",
    "import os\n",
    "import pandas as pd\n",
    "\n",
    "from torchvision import transforms\n",
    "from torchvision.transforms import Resize, ToTensor, Normalize"
   ]
  },
  {
   "cell_type": "markdown",
   "id": "royal-alabama",
   "metadata": {},
   "source": [
    "## Training Dataset 정의"
   ]
  },
  {
   "cell_type": "code",
   "execution_count": 2,
   "id": "sublime-immune",
   "metadata": {},
   "outputs": [],
   "source": [
    "class TrainDataset(Dataset):\n",
    "    def __init__(self, data_root, transform):\n",
    "        self.data_root = data_root\n",
    "        self.transform = transform\n",
    "        self.imag_list = self._load_img_list(data_root)\n",
    "\n",
    "    def __getitem__(self, index):\n",
    "        img_path = self.imag_list[index]\n",
    "        img = Image.open(img_path)\n",
    "        \n",
    "        if self.transform:\n",
    "            img = self.transform(img)\n",
    "\n",
    "        # Ground Truth\n",
    "        label = self._get_class_idx_from_img_name(img_path)\n",
    "\n",
    "        return img, label\n",
    "\n",
    "    def __len__(self):\n",
    "        return len(self.imag_list)\n",
    "    \n",
    "    def _load_img_list(self, data_root):\n",
    "        img_list = []\n",
    "        image_dir = os.path.join(data_root, 'images')\n",
    "        \n",
    "        for dir in glob.glob(image_dir + '/*'):\n",
    "            img_list.extend(glob.glob(dir+'/*'))\n",
    "\n",
    "        return img_list\n",
    "\n",
    "    def _load_img_ID(self, img_path):\n",
    "        return img_path.split('/')[7].split('_')[0]\n",
    "\n",
    "    def _get_class_idx_from_img_name(self, img_path):\n",
    "        img_name = os.path.basename(img_path)\n",
    "        img_id = self._load_img_ID(img_path)\n",
    "        \n",
    "        img_idx = train_data.loc[train_data['id'] == img_id].index\n",
    "        v = train_data.iloc[img_idx]['age+gender'].values[0]\n",
    "        if 'normal' in img_name:\n",
    "            return 12 + v\n",
    "        elif 'incorrect_mask' in img_name:\n",
    "            return 6 + v\n",
    "        else:\n",
    "            return 0 + v"
   ]
  },
  {
   "cell_type": "code",
   "execution_count": 3,
   "id": "subtle-recorder",
   "metadata": {},
   "outputs": [],
   "source": [
    "train_dir = '/opt/ml/input/data/train'\n",
    "# meta 데이터와 이미지 경로를 불러옵니다.\n",
    "train_data = pd.read_csv(os.path.join(train_dir, 'train_1.csv'))\n",
    "\n",
    "# Test Dataset 클래스 객체를 생성하고 DataLoader를 만듭니다.\n",
    "transform = transforms.Compose([\n",
    "    Resize((512, 384), Image.BILINEAR),\n",
    "    ToTensor(),\n",
    "    Normalize(mean=(0.5, 0.5, 0.5), std=(0.2, 0.2, 0.2)),\n",
    "])\n",
    "\n",
    "\n",
    "dataset = TrainDataset(train_dir, transform)"
   ]
  },
  {
   "cell_type": "code",
   "execution_count": 4,
   "id": "adjusted-panic",
   "metadata": {},
   "outputs": [
    {
     "data": {
      "text/plain": [
       "18900"
      ]
     },
     "execution_count": 4,
     "metadata": {},
     "output_type": "execute_result"
    }
   ],
   "source": [
    "len(dataset)"
   ]
  },
  {
   "cell_type": "code",
   "execution_count": 5,
   "id": "single-marsh",
   "metadata": {},
   "outputs": [
    {
     "data": {
      "text/plain": [
       "(tensor([[[-0.5980, -0.6569, -0.6569,  ...,  1.4608,  1.4608,  1.4608],\n",
       "          [-0.6569, -0.6765, -0.6961,  ...,  1.4608,  1.4608,  1.4608],\n",
       "          [-0.6961, -0.7157, -0.7157,  ...,  1.4608,  1.4608,  1.4608],\n",
       "          ...,\n",
       "          [-2.0098, -1.8333, -1.4804,  ...,  1.2451,  1.2451,  1.2255],\n",
       "          [-2.0098, -2.0490, -2.0098,  ...,  1.2451,  1.2255,  1.2255],\n",
       "          [-2.1471, -2.1863, -2.1275,  ...,  1.2451,  1.2255,  1.2255]],\n",
       " \n",
       "         [[ 0.6765,  0.6569,  0.6569,  ...,  1.5784,  1.5784,  1.5784],\n",
       "          [ 0.6765,  0.6373,  0.6569,  ...,  1.5784,  1.5784,  1.5784],\n",
       "          [ 0.6373,  0.5980,  0.6373,  ...,  1.5784,  1.5784,  1.5784],\n",
       "          ...,\n",
       "          [-2.0882, -2.1471, -2.1275,  ...,  1.3431,  1.3431,  1.3235],\n",
       "          [-2.0294, -2.1275, -2.2059,  ...,  1.3431,  1.3235,  1.3235],\n",
       "          [-2.2255, -2.0882, -2.0294,  ...,  1.3431,  1.3235,  1.3235]],\n",
       " \n",
       "         [[ 0.7549,  0.7745,  0.7745,  ...,  1.5392,  1.5392,  1.5392],\n",
       "          [ 0.7353,  0.7549,  0.7549,  ...,  1.5392,  1.5392,  1.5392],\n",
       "          [ 0.6961,  0.7157,  0.7353,  ...,  1.5392,  1.5392,  1.5392],\n",
       "          ...,\n",
       "          [-2.1078, -2.0882, -1.9510,  ...,  1.2647,  1.2647,  1.2451],\n",
       "          [-2.0686, -2.1471, -2.1863,  ...,  1.2647,  1.2451,  1.2451],\n",
       "          [-2.2451, -2.1667, -2.1078,  ...,  1.2647,  1.2451,  1.2451]]]),\n",
       " 4)"
      ]
     },
     "execution_count": 5,
     "metadata": {},
     "output_type": "execute_result"
    }
   ],
   "source": [
    "dataset[0]"
   ]
  },
  {
   "cell_type": "code",
   "execution_count": 6,
   "id": "recognized-straight",
   "metadata": {},
   "outputs": [
    {
     "data": {
      "text/plain": [
       "torch.Size([3, 512, 384])"
      ]
     },
     "execution_count": 6,
     "metadata": {},
     "output_type": "execute_result"
    }
   ],
   "source": [
    "dataset[0][0].size()"
   ]
  },
  {
   "cell_type": "markdown",
   "id": "broadband-april",
   "metadata": {},
   "source": [
    "##  Dataloader 정의"
   ]
  },
  {
   "cell_type": "code",
   "execution_count": 7,
   "id": "better-sperm",
   "metadata": {},
   "outputs": [],
   "source": [
    "loader = DataLoader(\n",
    "    dataset,\n",
    "    batch_size = 32,\n",
    "    shuffle=False\n",
    ")"
   ]
  },
  {
   "cell_type": "code",
   "execution_count": 8,
   "id": "unlimited-display",
   "metadata": {},
   "outputs": [],
   "source": [
    "from collections import defaultdict"
   ]
  },
  {
   "cell_type": "code",
   "execution_count": 11,
   "id": "cross-warning",
   "metadata": {},
   "outputs": [
    {
     "name": "stderr",
     "output_type": "stream",
     "text": [
      "591it [03:34,  2.75it/s]\n"
     ]
    }
   ],
   "source": [
    "class_counter = defaultdict(int)\n",
    "\n",
    "for iter, (img, label) in tqdm(enumerate(loader)):\n",
    "    for value in label:\n",
    "        class_counter[value.item()] += 1"
   ]
  },
  {
   "cell_type": "code",
   "execution_count": 12,
   "id": "improving-fitting",
   "metadata": {},
   "outputs": [
    {
     "data": {
      "text/plain": [
       "defaultdict(int,\n",
       "            {4: 4085,\n",
       "             16: 817,\n",
       "             10: 817,\n",
       "             1: 2050,\n",
       "             13: 410,\n",
       "             7: 410,\n",
       "             3: 3660,\n",
       "             15: 732,\n",
       "             9: 732,\n",
       "             0: 2745,\n",
       "             12: 549,\n",
       "             6: 549,\n",
       "             5: 545,\n",
       "             17: 109,\n",
       "             11: 109,\n",
       "             2: 415,\n",
       "             14: 83,\n",
       "             8: 83})"
      ]
     },
     "execution_count": 12,
     "metadata": {},
     "output_type": "execute_result"
    }
   ],
   "source": [
    "class_counter"
   ]
  },
  {
   "cell_type": "code",
   "execution_count": 18,
   "id": "diagnostic-kingston",
   "metadata": {},
   "outputs": [],
   "source": [
    "import pandas as pd"
   ]
  },
  {
   "cell_type": "code",
   "execution_count": 28,
   "id": "academic-electron",
   "metadata": {},
   "outputs": [
    {
     "data": {
      "text/html": [
       "<div>\n",
       "<style scoped>\n",
       "    .dataframe tbody tr th:only-of-type {\n",
       "        vertical-align: middle;\n",
       "    }\n",
       "\n",
       "    .dataframe tbody tr th {\n",
       "        vertical-align: top;\n",
       "    }\n",
       "\n",
       "    .dataframe thead th {\n",
       "        text-align: right;\n",
       "    }\n",
       "</style>\n",
       "<table border=\"1\" class=\"dataframe\">\n",
       "  <thead>\n",
       "    <tr style=\"text-align: right;\">\n",
       "      <th></th>\n",
       "      <th>0</th>\n",
       "      <th>1</th>\n",
       "      <th>2</th>\n",
       "      <th>3</th>\n",
       "      <th>4</th>\n",
       "      <th>5</th>\n",
       "      <th>6</th>\n",
       "      <th>7</th>\n",
       "      <th>8</th>\n",
       "      <th>9</th>\n",
       "      <th>10</th>\n",
       "      <th>11</th>\n",
       "      <th>12</th>\n",
       "      <th>13</th>\n",
       "      <th>14</th>\n",
       "      <th>15</th>\n",
       "      <th>16</th>\n",
       "      <th>17</th>\n",
       "    </tr>\n",
       "  </thead>\n",
       "  <tbody>\n",
       "    <tr>\n",
       "      <th>0</th>\n",
       "      <td>2745</td>\n",
       "      <td>2050</td>\n",
       "      <td>415</td>\n",
       "      <td>3660</td>\n",
       "      <td>4085</td>\n",
       "      <td>545</td>\n",
       "      <td>549</td>\n",
       "      <td>410</td>\n",
       "      <td>83</td>\n",
       "      <td>732</td>\n",
       "      <td>817</td>\n",
       "      <td>109</td>\n",
       "      <td>549</td>\n",
       "      <td>410</td>\n",
       "      <td>83</td>\n",
       "      <td>732</td>\n",
       "      <td>817</td>\n",
       "      <td>109</td>\n",
       "    </tr>\n",
       "  </tbody>\n",
       "</table>\n",
       "</div>"
      ],
      "text/plain": [
       "     0     1    2     3     4    5    6    7   8    9    10   11   12   13  \\\n",
       "0  2745  2050  415  3660  4085  545  549  410  83  732  817  109  549  410   \n",
       "\n",
       "   14   15   16   17  \n",
       "0  83  732  817  109  "
      ]
     },
     "execution_count": 28,
     "metadata": {},
     "output_type": "execute_result"
    }
   ],
   "source": [
    "pd.DataFrame.from_dict(dict(class_counter), orient = 'index').sort_index().T"
   ]
  },
  {
   "cell_type": "code",
   "execution_count": null,
   "id": "pending-shelf",
   "metadata": {},
   "outputs": [],
   "source": []
  }
 ],
 "metadata": {
  "kernelspec": {
   "display_name": "Python 3",
   "language": "python",
   "name": "python3"
  },
  "language_info": {
   "codemirror_mode": {
    "name": "ipython",
    "version": 3
   },
   "file_extension": ".py",
   "mimetype": "text/x-python",
   "name": "python",
   "nbconvert_exporter": "python",
   "pygments_lexer": "ipython3",
   "version": "3.7.7"
  }
 },
 "nbformat": 4,
 "nbformat_minor": 5
}
